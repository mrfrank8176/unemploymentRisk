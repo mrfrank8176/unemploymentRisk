{
 "cells": [
  {
   "cell_type": "code",
   "execution_count": 1,
   "id": "3f3187c4",
   "metadata": {},
   "outputs": [],
   "source": [
    "import ipywidgets,gzip\n",
    "import pandas as pd\n",
    "import geopandas as gpd\n",
    "from geopandas.plotting import plot_polygon_collection as gpdPlot\n",
    "import numpy as np\n",
    "import matplotlib.pyplot as plt\n",
    "%matplotlib inline"
   ]
  },
  {
   "cell_type": "code",
   "execution_count": 2,
   "id": "eff4db67",
   "metadata": {},
   "outputs": [],
   "source": [
    "states = gpd.read_file(\"./data/cb_2017_us_state_20m.shp\")"
   ]
  },
  {
   "cell_type": "code",
   "execution_count": 3,
   "id": "a22a2371",
   "metadata": {},
   "outputs": [],
   "source": [
    "def baseMap(figsize=(35,18),facecolor=[.9,.9,.9],**kwargs):\n",
    "    #f,ax = plt.subplots(1,figsize=figsize)\n",
    "    f = plt.figure(figsize=figsize)\n",
    "    ax = plt.gca()\n",
    "    plotShape(states,ax=ax,c=facecolor,**kwargs)\n",
    "    plt.xlim((-127,-65))\n",
    "    plt.ylim((25,50))\n",
    "    plt.xticks([])\n",
    "    plt.yticks([])\n",
    "    plt.box(\"off\")\n",
    "    ax.axis('off')\n",
    "    return f,ax\n",
    "\n",
    "def plotShape(df,geofield=\"geometry\",ax=None,c=.8*np.ones(3),colorField=None,cm=\"viridis\",\n",
    "              vmin=None,vmax=None,pltColorBar=False,\n",
    "              cbarAxis=[0.1,0.15,0.2,0.025],\n",
    "              cbarOrientation=\"horizontal\",\n",
    "              cbarTitle=None,\n",
    "              sm=None,\n",
    "              **kwargs):\n",
    "    #if ax is None:\n",
    "    #    ax = plt.gca()\n",
    "    if colorField is None:\n",
    "        df.plot(ax=ax,color=c,**kwargs)\n",
    "    else:\n",
    "        #gpdPlot(ax,df[geofield],facecolor=c,**kwargs)\n",
    "        df.plot(ax=ax,column=colorField,cmap=cm,vmin=vmin,vmax=vmax,**kwargs)\n",
    "    if sm is None and not colorField is None:\n",
    "        if vmin is None: vmin = df[colorField].min()\n",
    "        if vmax is None: vmax = df[colorField].max()\n",
    "        norm = plt.Normalize(vmin=vmin, vmax=vmax)\n",
    "        sm = plt.cm.ScalarMappable(\n",
    "            cmap=cm,\n",
    "            norm=norm\n",
    "        )\n",
    "        sm.set_array(df[colorField])\n",
    "        c = sm.to_rgba(df[colorField])\n",
    "    if pltColorBar:\n",
    "        cbaxes = plt.gcf().add_axes(cbarAxis) \n",
    "        C = plt.colorbar(sm, cax = cbaxes, orientation=cbarOrientation,\n",
    "                         #                 shrink=.47,pad=.025\n",
    "        )\n",
    "        if cbarTitle is None: cbarTitle = colorField\n",
    "        C.set_label(cbarTitle,fontsize=25)\n",
    "        C.ax.tick_params(labelsize=25)\n",
    "        return C\n",
    "    return None"
   ]
  },
  {
   "cell_type": "code",
   "execution_count": 5,
   "id": "1654be09-1a34-46c6-9696-de8120650c48",
   "metadata": {
    "scrolled": true
   },
   "outputs": [
    {
     "data": {
      "text/html": [
       "<div>\n",
       "<style scoped>\n",
       "    .dataframe tbody tr th:only-of-type {\n",
       "        vertical-align: middle;\n",
       "    }\n",
       "\n",
       "    .dataframe tbody tr th {\n",
       "        vertical-align: top;\n",
       "    }\n",
       "\n",
       "    .dataframe thead th {\n",
       "        text-align: right;\n",
       "    }\n",
       "</style>\n",
       "<table border=\"1\" class=\"dataframe\">\n",
       "  <thead>\n",
       "    <tr style=\"text-align: right;\">\n",
       "      <th></th>\n",
       "      <th></th>\n",
       "      <th></th>\n",
       "      <th>st</th>\n",
       "      <th>state</th>\n",
       "      <th>unemployment risk</th>\n",
       "      <th>geometry</th>\n",
       "    </tr>\n",
       "    <tr>\n",
       "      <th>year</th>\n",
       "      <th>month</th>\n",
       "      <th>2SOC</th>\n",
       "      <th></th>\n",
       "      <th></th>\n",
       "      <th></th>\n",
       "      <th></th>\n",
       "    </tr>\n",
       "  </thead>\n",
       "  <tbody>\n",
       "    <tr>\n",
       "      <th rowspan=\"5\" valign=\"top\">2019</th>\n",
       "      <th rowspan=\"5\" valign=\"top\">1</th>\n",
       "      <th>11</th>\n",
       "      <td>AL</td>\n",
       "      <td>Alabama</td>\n",
       "      <td>0.001429</td>\n",
       "      <td>POLYGON ((-88.46866 31.89386, -88.46866 31.933...</td>\n",
       "    </tr>\n",
       "    <tr>\n",
       "      <th>13</th>\n",
       "      <td>AL</td>\n",
       "      <td>Alabama</td>\n",
       "      <td>0.000626</td>\n",
       "      <td>POLYGON ((-88.46866 31.89386, -88.46866 31.933...</td>\n",
       "    </tr>\n",
       "    <tr>\n",
       "      <th>15</th>\n",
       "      <td>AL</td>\n",
       "      <td>Alabama</td>\n",
       "      <td>0.000874</td>\n",
       "      <td>POLYGON ((-88.46866 31.89386, -88.46866 31.933...</td>\n",
       "    </tr>\n",
       "    <tr>\n",
       "      <th>17</th>\n",
       "      <td>AL</td>\n",
       "      <td>Alabama</td>\n",
       "      <td>0.000417</td>\n",
       "      <td>POLYGON ((-88.46866 31.89386, -88.46866 31.933...</td>\n",
       "    </tr>\n",
       "    <tr>\n",
       "      <th>19</th>\n",
       "      <td>AL</td>\n",
       "      <td>Alabama</td>\n",
       "      <td>0.000489</td>\n",
       "      <td>POLYGON ((-88.46866 31.89386, -88.46866 31.933...</td>\n",
       "    </tr>\n",
       "  </tbody>\n",
       "</table>\n",
       "</div>"
      ],
      "text/plain": [
       "                 st    state  unemployment risk  \\\n",
       "year month 2SOC                                   \n",
       "2019 1     11    AL  Alabama           0.001429   \n",
       "           13    AL  Alabama           0.000626   \n",
       "           15    AL  Alabama           0.000874   \n",
       "           17    AL  Alabama           0.000417   \n",
       "           19    AL  Alabama           0.000489   \n",
       "\n",
       "                                                          geometry  \n",
       "year month 2SOC                                                     \n",
       "2019 1     11    POLYGON ((-88.46866 31.89386, -88.46866 31.933...  \n",
       "           13    POLYGON ((-88.46866 31.89386, -88.46866 31.933...  \n",
       "           15    POLYGON ((-88.46866 31.89386, -88.46866 31.933...  \n",
       "           17    POLYGON ((-88.46866 31.89386, -88.46866 31.933...  \n",
       "           19    POLYGON ((-88.46866 31.89386, -88.46866 31.933...  "
      ]
     },
     "execution_count": 5,
     "metadata": {},
     "output_type": "execute_result"
    }
   ],
   "source": [
    "F = gzip.open(\"./data/summaryData.geojson.gz\")\n",
    "data = gpd.read_file(F)\n",
    "F.close()\n",
    "data = data.set_index([\"year\",\"month\",\"2SOC\"])\n",
    "data.head()"
   ]
  },
  {
   "cell_type": "code",
   "execution_count": 6,
   "id": "d9405726",
   "metadata": {},
   "outputs": [],
   "source": [
    "SOC = {\n",
    "     'management': '11-0000',\n",
    "     'business/financial operations': '13-0000',\n",
    "     'computer/math': '15-0000',\n",
    "     'architecture/engineering': '17-0000',\n",
    "     'life/physical/social science': '19-0000',\n",
    "     'community/social services': '21-0000',\n",
    "     'legal': '23-0000',\n",
    "     'education': '25-0000',\n",
    "     'arts/entertainment': '27-0000',\n",
    "     'healthcare practitioner': '29-0000',\n",
    "     'healthcare support': '31-0000',\n",
    "     'protective services': '33-0000',\n",
    "     'food prep/serving': '35-0000',\n",
    "     'building/grounds cleaning/maintenance': '37-0000',\n",
    "     'personal care': '39-0000',\n",
    "     'sales/retail': '41-0000',\n",
    "     'office/admin support': '43-0000',\n",
    "     'farming/fishing/forestry': '45-0000',\n",
    "     'construction': '47-0000',\n",
    "     'installation/maintenance/repair': '49-0000',\n",
    "     'production': '51-0000',\n",
    "     'transportation': '53-0000',\n",
    "     'military specific': '55-0000',\n",
    "     'INA': 'INA',\n",
    "     'total': 'total'\n",
    "}"
   ]
  },
  {
   "cell_type": "code",
   "execution_count": 7,
   "id": "0834b2a7",
   "metadata": {},
   "outputs": [],
   "source": [
    "def plotMap(year,month,soc):\n",
    "    code = SOC[soc][:2]\n",
    "    temp = data.loc[year,month,code,:]\n",
    "    fig,ax = baseMap(edgecolor='k')\n",
    "    plotShape(temp,colorField=\"unemployment risk\",ax=ax,pltColorBar=True,cm=\"Purples\",cbarTitle=\"%s\\nUnemployment Risk\" % soc.capitalize(),\n",
    "             edgecolor='k')\n",
    "    plt.title(\"Month: %d, Year: %d\" % (month,year),fontsize=25)"
   ]
  },
  {
   "cell_type": "code",
   "execution_count": 8,
   "id": "7370b9f6",
   "metadata": {},
   "outputs": [
    {
     "data": {
      "application/vnd.jupyter.widget-view+json": {
       "model_id": "9ff81ac02fb248318060ff5dae9ed9aa",
       "version_major": 2,
       "version_minor": 0
      },
      "text/plain": [
       "interactive(children=(IntSlider(value=2019, description='year', max=2020, min=2019), IntSlider(value=4, descri…"
      ]
     },
     "metadata": {},
     "output_type": "display_data"
    },
    {
     "data": {
      "text/plain": [
       "<function __main__.plotMap(year, month, soc)>"
      ]
     },
     "execution_count": 8,
     "metadata": {},
     "output_type": "execute_result"
    }
   ],
   "source": [
    "years = data.index.unique(\"year\")\n",
    "months = data.index.unique(\"month\")\n",
    "ipywidgets.interact(\n",
    "    plotMap,\n",
    "    year=ipywidgets.IntSlider(2019,np.min(years),np.max(years),1),\n",
    "    month=ipywidgets.IntSlider(4,np.min(months),np.max(months),1),\n",
    "    soc=ipywidgets.Dropdown(\n",
    "        options=[f for f in list(SOC.keys()) if not f in [\"military specific\",\"total\",\"INA\"]],\n",
    "        value=\"construction\",\n",
    "        description='Major SOC:',\n",
    "        disabled=False,\n",
    "    )\n",
    ")"
   ]
  },
  {
   "cell_type": "code",
   "execution_count": null,
   "id": "3bac341c-5132-4904-8010-412cfc516352",
   "metadata": {},
   "outputs": [],
   "source": []
  }
 ],
 "metadata": {
  "kernelspec": {
   "display_name": "Python 3 (ipykernel)",
   "language": "python",
   "name": "python3"
  },
  "language_info": {
   "codemirror_mode": {
    "name": "ipython",
    "version": 3
   },
   "file_extension": ".py",
   "mimetype": "text/x-python",
   "name": "python",
   "nbconvert_exporter": "python",
   "pygments_lexer": "ipython3",
   "version": "3.9.5"
  },
  "varInspector": {
   "cols": {
    "lenName": 16,
    "lenType": 16,
    "lenVar": 40
   },
   "kernels_config": {
    "python": {
     "delete_cmd_postfix": "",
     "delete_cmd_prefix": "del ",
     "library": "var_list.py",
     "varRefreshCmd": "print(var_dic_list())"
    },
    "r": {
     "delete_cmd_postfix": ") ",
     "delete_cmd_prefix": "rm(",
     "library": "var_list.r",
     "varRefreshCmd": "cat(var_dic_list()) "
    }
   },
   "types_to_exclude": [
    "module",
    "function",
    "builtin_function_or_method",
    "instance",
    "_Feature"
   ],
   "window_display": false
  }
 },
 "nbformat": 4,
 "nbformat_minor": 5
}
